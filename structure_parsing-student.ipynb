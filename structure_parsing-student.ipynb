{
 "cells": [
  {
   "cell_type": "markdown",
   "metadata": {},
   "source": [
    "# Structure Parsing\n",
    "\n",
    "For this project, you will use Python to parse a structure downloaded from the website [PubChem](https://pubchem.ncbi.nlm.nih.gov/). The files from PubChem are in a format called SDF. We will write a script to save the coordinates from the file. We will write these in a format called an xyz file so it can be used for our simulations later.\n",
    "\n",
    "We've included an sdf file for nitrobenzene in the sdf folder, but after you complete this exercise, you can download and try this with other sdf files. The file you should open is in the sdf folder and named 'nitrobenzene.sdf'"
   ]
  },
  {
   "cell_type": "code",
   "execution_count": null,
   "metadata": {},
   "outputs": [],
   "source": [
    "# Write code here to build the file path. We want to open a file called 'nitrobenzene' in the sdf folder.\n",
    "import os\n",
    "\n",
    "filehandle = "
   ]
  },
  {
   "cell_type": "code",
   "execution_count": null,
   "metadata": {},
   "outputs": [],
   "source": [
    "# Write code here to open and read the file. Save the file contents\n",
    "# in a variable called data\n",
    "\n",
    "data ="
   ]
  },
  {
   "cell_type": "code",
   "execution_count": null,
   "metadata": {},
   "outputs": [],
   "source": [
    "# This cell will print the file with line numbers\n",
    "for line_num, line in enumerate(data):\n",
    "    print(line_num, line)"
   ]
  },
  {
   "cell_type": "markdown",
   "metadata": {},
   "source": [
    "For these files, the first number on row 3 (remember counting starts at 0!) is always the number of atoms.\n",
    "\n",
    "For our example, the line looks like this:\n",
    "\n",
    "`3  14 14  0     0  0  0  0  0  0999 V2000`\n",
    "\n",
    "Remember that the first number (3) is the line number, so the line from the file is\n",
    "\n",
    "`14 14  0     0  0  0  0  0  0999 V2000`"
   ]
  },
  {
   "cell_type": "code",
   "execution_count": null,
   "metadata": {},
   "outputs": [],
   "source": [
    "# To get the number of atoms, we will want to get information from this line. First, slice the data variable to\n",
    "# get the fourth line\n",
    "\n",
    "fourth_line = \n",
    "print(fourth_line)"
   ]
  },
  {
   "cell_type": "code",
   "execution_count": null,
   "metadata": {},
   "outputs": [],
   "source": [
    "# Next, we'll want to split our line so we can get the number of atoms. Write code to split the line here, and\n",
    "# save in a variable called words\n",
    "words = "
   ]
  },
  {
   "cell_type": "code",
   "execution_count": null,
   "metadata": {},
   "outputs": [],
   "source": [
    "# After you have split the line, get the first value in that list to get the number of atoms.\n",
    "\n",
    "num_atoms = \n",
    "\n",
    "# We want num_atoms to be a number (it's a string because we read it from a file), so we save it as an integer\n",
    "num_atoms = int(num_atoms)\n",
    "print(F\"There are {num_atoms} atoms\")"
   ]
  },
  {
   "cell_type": "markdown",
   "metadata": {},
   "source": [
    "After the fourth line, the next lines give the coordinates of the atoms. There will be one line for each atom.\n",
    "\n",
    "How can you slice data so that you get the lines with atom information?"
   ]
  },
  {
   "cell_type": "code",
   "execution_count": null,
   "metadata": {},
   "outputs": [],
   "source": [
    "starting_line = 4\n",
    "\n",
    "# What is the ending line of atom information in the atom information starts on line 4 and there are \n",
    "# num_atoms lines?\n",
    "\n",
    "ending_line = \n",
    "\n",
    "# Slice data to get the lines that have coordinates. Save in a variable called atom_lines\n",
    "atom_lines = \n",
    "\n",
    "for line in atom_lines:\n",
    "    print(line)"
   ]
  },
  {
   "cell_type": "markdown",
   "metadata": {},
   "source": [
    "In these lines, the first column is the x coordinate, the second is the y coordinate, the third is the z coordinate, and the fourth is the atom element. We'll first see how to get this information out of one line, then move it into a loop to do for all of the lines."
   ]
  },
  {
   "cell_type": "code",
   "execution_count": null,
   "metadata": {},
   "outputs": [],
   "source": [
    "# Get the first line\n",
    "first_line = \n",
    "\n",
    "# Split the first line on white space\n",
    "words = \n",
    "\n",
    "# Get the atom name and coordinates\n",
    "atom_name = \n",
    "x = \n",
    "y = \n",
    "z = \n",
    "\n",
    "print(atom_name, x, y, z)"
   ]
  },
  {
   "cell_type": "markdown",
   "metadata": {},
   "source": [
    "We want to do this for all the lines and write a file called an xyz file. \n",
    "\n",
    "An xyz file always has the number of atoms on the first line. The second line will is always a comment, it doesn't really matter what it says. Then, the coordinates are listed for each atom\n",
    "\n",
    "`element x_coordinate y_coordinate z_coordinate`\n",
    "\n",
    "Loop over the lines in your `atom_lines` variable and print the atom names and coordinates. Save the x coordinate in a list called `x_coord`, the y coordinates in a list called `y_coord`, the z coordinates in a list called `z_coords` and the atom names in a list called `atom_names`,"
   ]
  },
  {
   "cell_type": "code",
   "execution_count": null,
   "metadata": {},
   "outputs": [],
   "source": [
    "# Loop over atom_lines and save atom_names, x_coord, y_coord, z_coord\n",
    "\n"
   ]
  },
  {
   "cell_type": "markdown",
   "metadata": {},
   "source": [
    "# Saving the information to a file"
   ]
  },
  {
   "cell_type": "markdown",
   "metadata": {},
   "source": [
    "We might want to save the information to a file for later use. The code below opens a file called `output.xyz` and writes the list you created in a file."
   ]
  },
  {
   "cell_type": "code",
   "execution_count": null,
   "metadata": {},
   "outputs": [],
   "source": [
    "num_atoms = len(atom_names)\n",
    "\n",
    "# Open an output file called 'output.xyz' for writing.\n",
    "output_file = open('output.xyz', 'w+')\n",
    "\n",
    "# First - write the number of atoms\n",
    "output_file.write(f'{num_atoms}\\n')\n",
    "\n",
    "# Second line - a comment, we will leave empty\n",
    "output_file.write(\"\\n\")\n",
    "\n",
    "\n",
    "for i in range(num_atoms):\n",
    "    output_string = atom_names[i] + ' ' + x_coord[i] + ' ' + y_coord[i] + ' ' + z_coord[i] + '\\n'\n",
    "    output_file.write(output_string)\n",
    "\n",
    "output_file.close()"
   ]
  },
  {
   "cell_type": "markdown",
   "metadata": {},
   "source": [
    "After you have written the file, navigate back to your file browser. You should see a new file called 'output.xyz'. You can click on this file to view the file you wrote."
   ]
  },
  {
   "cell_type": "code",
   "execution_count": null,
   "metadata": {},
   "outputs": [],
   "source": []
  }
 ],
 "metadata": {
  "kernelspec": {
   "display_name": "Python 3",
   "language": "python",
   "name": "python3"
  },
  "language_info": {
   "codemirror_mode": {
    "name": "ipython",
    "version": 3
   },
   "file_extension": ".py",
   "mimetype": "text/x-python",
   "name": "python",
   "nbconvert_exporter": "python",
   "pygments_lexer": "ipython3",
   "version": "3.6.8"
  }
 },
 "nbformat": 4,
 "nbformat_minor": 4
}
